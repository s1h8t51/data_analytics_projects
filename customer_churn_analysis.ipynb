{
 "cells": [
  {
   "cell_type": "markdown",
   "id": "5e778884-c5f4-43a1-9208-265d6cd35e2e",
   "metadata": {},
   "source": [
    "# customer churn  analysis \n",
    "## importing all important libraries "
   ]
  },
  {
   "cell_type": "code",
   "execution_count": 1,
   "id": "2e42035f-7471-49a4-b3f4-94104fe54a0f",
   "metadata": {},
   "outputs": [],
   "source": [
    "import pandas as pd\n",
    "import numpy as np\n",
    "from sklearn.model_selection import train_test_split\n",
    "from sklearn.preprocessing import LabelEncoder, StandardScaler\n",
    "from sklearn.ensemble import RandomForestClassifier\n",
    "from sklearn.metrics import classification_report, confusion_matrix, roc_auc_score\n",
    "import joblib  # to save model\n",
    "import pandas as pd"
   ]
  },
  {
   "cell_type": "markdown",
   "id": "49ee0be8-47a7-4c30-a8dc-c79697a4c8dd",
   "metadata": {},
   "source": [
    "## data cleaning and handling categorical variables \n",
    "* few important changes made and handeled here are regarding the churn reason which is a important component\n",
    "* None of the columns na  can be removed with out checking the size of impact of that column on the data set --isna().sum() can be utilized\n",
    "to know more about the na value size in each column and decision needed to be taken\n",
    "* selecting the unwanted or data leaking or misleading columns of a data set is a crucial part and that has to selected well\n",
    "* follo the linked in post \n",
    "* the target variable is handeled well as it is categorized all the values are flaged to 0 or 1\n",
    "* pd.get_dummies is utilized to handel the categorical values of the df ,known as one-hot encoding). This method is especially useful when preparing data for machine learning algorithms that require numeric input.\n"
   ]
  },
  {
   "cell_type": "code",
   "execution_count": 14,
   "id": "4e555e4b-19ae-45f1-b023-8a2cb9542f17",
   "metadata": {},
   "outputs": [],
   "source": [
    "\n",
    "def load_data(file_path= '/Users/sahitya_gantala/Desktop/projects/Dsa/Telco_customer_churn.xlsx', sheet_name=0):\n",
    "    #file_path='/workspaces/data_analytics_projects/Telco_customer_churn.xlsx'\n",
    "    # Reads the Excel file (first sheet by default)\n",
    "    df = pd.read_excel(file_path, sheet_name=sheet_name)\n",
    "    # print(df.shape) #  7043,33\n",
    "    # print(df.columns) # total 33 columns \n",
    "    df['Total Charges'] = pd.to_numeric(df['Total Charges'], errors='coerce')\n",
    "    df['Churn Reason'] = df['Churn Reason'].fillna('Not Churned')\n",
    "    exclude_cols = ['CustomerID', 'Country', 'State', 'City', 'Lat Long', 'Churn Reason']\n",
    "    model_df1 = df.drop(columns=exclude_cols)\n",
    "    model_df1.rename(columns={'Churn Label': 'Churn'}, inplace=True)\n",
    "    exclude_cols1 = ['Count', 'Zip Code', 'Latitude', 'Longitude', 'Churn Value', 'Churn Score', 'CLTV'] #data lekage or misleading\n",
    "    model_df = model_df1.drop(columns=exclude_cols1)\n",
    "    model_df['Churn'] = model_df1['Churn'].map({'Yes': 1, 'No': 0})\n",
    "    return model_df"
   ]
  },
  {
   "cell_type": "markdown",
   "id": "993ae346-542b-4dc9-bf82-1f41036a4ec3",
   "metadata": {},
   "source": [
    "* use this if you faced any path issues while pointing file "
   ]
  },
  {
   "cell_type": "code",
   "execution_count": 13,
   "id": "1f7e6388-7419-42dd-ac9b-c439288baba3",
   "metadata": {},
   "outputs": [
    {
     "name": "stdout",
     "output_type": "stream",
     "text": [
      "/Users/sahitya_gantala/Desktop/projects/Dsa\n"
     ]
    }
   ],
   "source": [
    "import os\n",
    "print(os.getcwd())"
   ]
  },
  {
   "cell_type": "code",
   "execution_count": 15,
   "id": "8ee2a4ae-5cbf-4780-8856-1f27ba3b4434",
   "metadata": {},
   "outputs": [
    {
     "name": "stdout",
     "output_type": "stream",
     "text": [
      "[[908 101]\n",
      " [196 204]]\n",
      "              precision    recall  f1-score   support\n",
      "\n",
      "           0       0.82      0.90      0.86      1009\n",
      "           1       0.67      0.51      0.58       400\n",
      "\n",
      "    accuracy                           0.79      1409\n",
      "   macro avg       0.75      0.70      0.72      1409\n",
      "weighted avg       0.78      0.79      0.78      1409\n",
      "\n",
      "AUC Score: 0.8372472745292369\n"
     ]
    }
   ],
   "source": [
    "\n",
    "\n",
    "\n",
    "if __name__ == \"__main__\": #entry point of program \n",
    "    model_df=load_data()\n",
    "    #print(model_df.columns)\n",
    "    #print(model_df.dtypes)\n",
    "    categorical_cols = [\n",
    "    'Gender', 'Senior Citizen', 'Partner', 'Dependents',\n",
    "    'Phone Service', 'Multiple Lines', 'Internet Service',\n",
    "    'Online Security', 'Online Backup', 'Device Protection',\n",
    "    'Tech Support', 'Streaming TV', 'Streaming Movies',\n",
    "    'Contract', 'Paperless Billing', 'Payment Method']\n",
    "    model_df = pd.get_dummies(model_df, columns=categorical_cols, drop_first=True)\n",
    "    #print(model_df.shape)\n",
    "    #print(model_df.columns[:10])  # Just to preview\n",
    "    x = model_df.drop('Churn', axis=1)\n",
    "    y = model_df['Churn']\n",
    "    X_train, X_test, y_train, y_test = train_test_split(x, y, test_size=0.2, random_state=42)\n",
    "    model = RandomForestClassifier(n_estimators=100, random_state=42)\n",
    "    model.fit(X_train, y_train)\n",
    "    y_pred = model.predict(X_test)\n",
    "    print(confusion_matrix(y_test, y_pred))\n",
    "    print(classification_report(y_test, y_pred))\n",
    "    print(\"AUC Score:\", roc_auc_score(y_test, model.predict_proba(X_test)[:, 1]))\n",
    "\n",
    "\n",
    "\n",
    "\n",
    "\n",
    "\n",
    "\n",
    "\n",
    "\n",
    "\n",
    "\n"
   ]
  }
 ],
 "metadata": {
  "kernelspec": {
   "display_name": "Python 3 (ipykernel)",
   "language": "python",
   "name": "python3"
  },
  "language_info": {
   "codemirror_mode": {
    "name": "ipython",
    "version": 3
   },
   "file_extension": ".py",
   "mimetype": "text/x-python",
   "name": "python",
   "nbconvert_exporter": "python",
   "pygments_lexer": "ipython3",
   "version": "3.12.7"
  }
 },
 "nbformat": 4,
 "nbformat_minor": 5
}
