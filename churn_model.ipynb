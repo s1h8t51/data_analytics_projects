import pandas as pd
import numpy as np
from sklearn.model_selection import train_test_split
from sklearn.preprocessing import LabelEncoder, StandardScaler
from sklearn.ensemble import RandomForestClassifier
from sklearn.metrics import classification_report, confusion_matrix, roc_auc_score
import joblib  # to save model

def load_data(file_path='data/telco_churn.csv'):
    return pd.read_csv(file_path)




