import pandas as pd
import numpy as np
from sklearn.model_selection import train_test_split
from sklearn.preprocessing import LabelEncoder, StandardScaler
from sklearn.ensemble import RandomForestClassifier
from sklearn.metrics import classification_report, confusion_matrix, roc_auc_score
import joblib  # to save model
import pandas as pd

def load_data(file_path='/workspaces/data_analytics_projects/Telco_customer_churn.xlsx', sheet_name=0):
    # Reads the Excel file (first sheet by default)
    df = pd.read_excel(file_path, sheet_name=sheet_name)
    print(df.head())
    return df

if __name__ == "__main__": #entry point of program 
    df=load_data()





